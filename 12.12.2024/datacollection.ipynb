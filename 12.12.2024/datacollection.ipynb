{
 "cells": [
  {
   "cell_type": "code",
   "execution_count": 1,
   "metadata": {},
   "outputs": [],
   "source": [
    "import sys\n",
    "import os\n",
    "\n",
    "# Add the parent directory to the Python path\n",
    "sys.path.append(os.path.abspath(os.path.join(os.getcwd(), os.pardir)))"
   ]
  },
  {
   "cell_type": "code",
   "execution_count": 3,
   "metadata": {},
   "outputs": [],
   "source": [
    "import time\n",
    "import numpy as np"
   ]
  },
  {
   "cell_type": "code",
   "execution_count": 5,
   "metadata": {},
   "outputs": [],
   "source": [
    "from Imaging.Controllers import MasterController, MotorController, TTController\n",
    "from Imaging.Scanner import Scanner"
   ]
  },
  {
   "cell_type": "code",
   "execution_count": 6,
   "metadata": {},
   "outputs": [],
   "source": [
    "mc_args = {\"com_port\": \"COM13\", \"baud_rate\": 9600, \"spad_channel\": 2, \"trigger_channel\": 1, \"spad_ch_delay\": 0, \"trigger_ch_delay\": 1.705e6}"
   ]
  },
  {
   "cell_type": "code",
   "execution_count": 7,
   "metadata": {},
   "outputs": [],
   "source": [
    "mc = MasterController(**mc_args)\n",
    "scanner = Scanner(mc)"
   ]
  },
  {
   "cell_type": "code",
   "execution_count": 8,
   "metadata": {},
   "outputs": [
    {
     "name": "stdout",
     "output_type": "stream",
     "text": [
      "b'Current positions are updated to 0.\\r\\n'\n",
      "b'Negative direction for X-axis.\\r\\n'\n",
      "command given to move in x axis\n",
      "(-0.9996875, 0.0)\n",
      "(-1.0, 0.0)\n",
      "b'Negative direction for Y-axis.\\r\\n'\n",
      "one iteration of for loop completed\n",
      "b'Positive direction for X-axis.\\r\\n'\n",
      "command given to move in x axis\n",
      "(-0.0003125, -2.0)\n",
      "b'Negative direction for Y-axis.\\r\\n'\n",
      "one iteration of for loop completed\n",
      "b'Homing X and Y axes.\\r\\n'\n",
      "b'X-axis is at the home position.\\r\\n'\n",
      "b'Y-axis is goimg to the home position.\\r\\n'\n"
     ]
    }
   ],
   "source": [
    "summa_2D_scan = scanner.scan_2D(area=(1, 4), resolution=(0.1, 2))"
   ]
  },
  {
   "cell_type": "code",
   "execution_count": 9,
   "metadata": {},
   "outputs": [],
   "source": [
    "summa_2D_scan_np = np.array(summa_2D_scan)"
   ]
  },
  {
   "cell_type": "code",
   "execution_count": 10,
   "metadata": {},
   "outputs": [
    {
     "data": {
      "text/plain": [
       "(2, 10, 500)"
      ]
     },
     "execution_count": 10,
     "metadata": {},
     "output_type": "execute_result"
    }
   ],
   "source": [
    "summa_2D_scan_np.shape"
   ]
  },
  {
   "cell_type": "code",
   "execution_count": 11,
   "metadata": {},
   "outputs": [
    {
     "name": "stdout",
     "output_type": "stream",
     "text": [
      "b'Current positions are updated to 0.\\r\\n'\n",
      "b'Negative direction for X-axis.\\r\\n'\n",
      "(-0.9996875, 0.0)\n",
      "(-1.0, 0.0)\n",
      "b'Homing X and Y axes.\\r\\n'\n",
      "b'X-axis is goimg to the home position.\\r\\n'\n",
      "b'Y-axis is at the home position.\\r\\n'\n"
     ]
    }
   ],
   "source": [
    "summa_1D_scan = scanner.scan_1D(area=1)"
   ]
  },
  {
   "cell_type": "code",
   "execution_count": 12,
   "metadata": {},
   "outputs": [],
   "source": [
    "summa_1D_scan_np = np.array(summa_1D_scan)"
   ]
  },
  {
   "cell_type": "code",
   "execution_count": 13,
   "metadata": {},
   "outputs": [
    {
     "data": {
      "text/plain": [
       "(10, 500)"
      ]
     },
     "execution_count": 13,
     "metadata": {},
     "output_type": "execute_result"
    }
   ],
   "source": [
    "summa_1D_scan_np.shape"
   ]
  },
  {
   "cell_type": "code",
   "execution_count": null,
   "metadata": {},
   "outputs": [
    {
     "name": "stdout",
     "output_type": "stream",
     "text": [
      "b'Current positions are updated to 0.\\r\\n'\n",
      "b'Negative direction for X-axis.\\r\\n'\n",
      "b'-662\\r\\n'\n"
     ]
    }
   ],
   "source": [
    "oneD_scan = scanner.scan_1D(area = 2)"
   ]
  },
  {
   "cell_type": "code",
   "execution_count": 7,
   "metadata": {},
   "outputs": [
    {
     "data": {
      "text/plain": [
       "(0.0, 0.0)"
      ]
     },
     "execution_count": 7,
     "metadata": {},
     "output_type": "execute_result"
    }
   ],
   "source": [
    "mc.getlocation()"
   ]
  },
  {
   "cell_type": "code",
   "execution_count": 8,
   "metadata": {},
   "outputs": [
    {
     "name": "stdout",
     "output_type": "stream",
     "text": [
      "b'Current positions are updated to 0.\\r\\n'\n",
      "home set done\n",
      "b'Positive direction for X-axis.\\r\\n'\n",
      "x_step done\n",
      "commad E sent\n",
      "b'6342\\r\\n'\n",
      "line read\n",
      "b'0\\r\\n'\n",
      "y_setp done\n",
      "Commad E sent\n",
      "b'Negative direction for Y-axis.\\r\\n'\n",
      "Line read\n"
     ]
    }
   ],
   "source": [
    "# mc.home_set()\n",
    "# print('home set done')\n",
    "# mc.x_step(1,1,0)\n",
    "# print('x_step done')\n",
    "# time.sleep(2)\n",
    "# mc.send_command('E')\n",
    "# print('commad E sent')\n",
    "# print(mc.ser.readline())\n",
    "# print('line read')\n",
    "# time.sleep(0.5)\n",
    "# mc.y_step(1,1,0)\n",
    "# print('y_setp done')\n",
    "# time.sleep(2)\n",
    "# mc.send_command('E')\n",
    "# print('Commad E sent')\n",
    "# print(mc.ser.readline())\n",
    "# print('Line read')"
   ]
  },
  {
   "cell_type": "code",
   "execution_count": null,
   "metadata": {},
   "outputs": [
    {
     "name": "stdout",
     "output_type": "stream",
     "text": [
      "b'Positive direction for X-axis.\\r\\n'\n",
      "b'Negative direction for Y-axis.\\r\\n'\n",
      "b'2\\r\\n'\n",
      "b'-1\\r\\n'\n",
      "b'Current positions are updated to 0.\\r\\n'\n"
     ]
    },
    {
     "ename": "ValueError",
     "evalue": "invalid literal for int() with base 10: b'0.'",
     "output_type": "error",
     "traceback": [
      "\u001b[1;31m---------------------------------------------------------------------------\u001b[0m",
      "\u001b[1;31mValueError\u001b[0m                                Traceback (most recent call last)",
      "Cell \u001b[1;32mIn[19], line 10\u001b[0m\n\u001b[0;32m      8\u001b[0m \u001b[38;5;28mprint\u001b[39m(k)\n\u001b[0;32m      9\u001b[0m \u001b[38;5;28mprint\u001b[39m(l)\n\u001b[1;32m---> 10\u001b[0m t \u001b[38;5;241m=\u001b[39m  \u001b[38;5;28mint\u001b[39m(k\u001b[38;5;241m.\u001b[39msplit()[\u001b[38;5;241m-\u001b[39m\u001b[38;5;241m1\u001b[39m]), \u001b[38;5;28;43mint\u001b[39;49m\u001b[43m(\u001b[49m\u001b[43ml\u001b[49m\u001b[38;5;241;43m.\u001b[39;49m\u001b[43msplit\u001b[49m\u001b[43m(\u001b[49m\u001b[43m)\u001b[49m\u001b[43m[\u001b[49m\u001b[38;5;241;43m-\u001b[39;49m\u001b[38;5;241;43m1\u001b[39;49m\u001b[43m]\u001b[49m\u001b[43m)\u001b[49m\n\u001b[0;32m     11\u001b[0m \u001b[38;5;66;03m#print(t)\u001b[39;00m\n\u001b[0;32m     12\u001b[0m \u001b[38;5;28mprint\u001b[39m(t[\u001b[38;5;241m0\u001b[39m]\u001b[38;5;241m/\u001b[39m\u001b[38;5;241m6400\u001b[39m,t[\u001b[38;5;241m1\u001b[39m]\u001b[38;5;241m/\u001b[39m\u001b[38;5;241m6400\u001b[39m)\n",
      "\u001b[1;31mValueError\u001b[0m: invalid literal for int() with base 10: b'0.'"
     ]
    }
   ],
   "source": [
    "# mc.home_set()\n",
    "# mc.x_step(1,1,0)\n",
    "# mc.y_step(1,1,0)\n",
    "# time.sleep(2)\n",
    "# mc.send_command('E')\n",
    "# k = mc.ser.readline()\n",
    "# l = mc.ser.readline()\n",
    "# print(k)\n",
    "# print(l)\n",
    "# t =  int(k.split()[-1]), int(l.split()[-1])\n",
    "# #print(t)\n",
    "# print(t[0]/6400,t[1]/6400)"
   ]
  },
  {
   "cell_type": "code",
   "execution_count": 17,
   "metadata": {},
   "outputs": [
    {
     "name": "stdout",
     "output_type": "stream",
     "text": [
      "b'Negative direction for Y-axis.\\r\\n'\n"
     ]
    }
   ],
   "source": [
    "# mc.right_step(5*6400, 6400)"
   ]
  },
  {
   "cell_type": "code",
   "execution_count": null,
   "metadata": {},
   "outputs": [
    {
     "name": "stdout",
     "output_type": "stream",
     "text": [
      "b'Current positions are updated to 0.\\r\\n'\n",
      "b'Negative direction for X-axis.\\r\\n'\n",
      "b'Negative direction for Y-axis.\\r\\n'\n",
      "(-4043, -3997)\n",
      "-0.63171875 -0.62453125\n"
     ]
    }
   ],
   "source": [
    "# mc.home_set()\n",
    "# mc.x_step(1,1,1)\n",
    "# mc.y_step(1,1,0)\n",
    "# time.sleep(2)\n",
    "# mc.send_command('E')\n",
    "# t =  int(mc.ser.readline().split()[-1]), int(mc.ser.readline().split()[-1])\n",
    "# print(t)\n",
    "# print(t[0]/6400,t[1]/6400)"
   ]
  }
 ],
 "metadata": {
  "kernelspec": {
   "display_name": "ML1",
   "language": "python",
   "name": "python3"
  },
  "language_info": {
   "codemirror_mode": {
    "name": "ipython",
    "version": 3
   },
   "file_extension": ".py",
   "mimetype": "text/x-python",
   "name": "python",
   "nbconvert_exporter": "python",
   "pygments_lexer": "ipython3",
   "version": "3.8.10"
  }
 },
 "nbformat": 4,
 "nbformat_minor": 2
}
